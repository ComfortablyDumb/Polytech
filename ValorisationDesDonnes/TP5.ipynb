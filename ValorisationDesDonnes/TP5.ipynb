{
 "metadata": {
  "language_info": {
   "codemirror_mode": {
    "name": "ipython",
    "version": 3
   },
   "file_extension": ".py",
   "mimetype": "text/x-python",
   "name": "python",
   "nbconvert_exporter": "python",
   "pygments_lexer": "ipython3",
   "version": 3
  },
  "orig_nbformat": 2,
  "kernelspec": {
   "name": "ir",
   "display_name": "R",
   "language": "R"
  }
 },
 "nbformat": 4,
 "nbformat_minor": 2,
 "cells": [
  {
   "source": [
    "# TP 5 Valorisation des données: Régression logistique"
   ],
   "cell_type": "markdown",
   "metadata": {}
  },
  {
   "cell_type": "code",
   "execution_count": 143,
   "metadata": {},
   "outputs": [
    {
     "output_type": "stream",
     "name": "stdout",
     "text": [
      "  [1] 1 1 1 1 0 1 1 1 0 1 1 1 1 0 1 1 0 1 1 1 1 1 1 1 1 1 1 1 1 0 1 1 1 0 1 0 0\n [38] 1 1 0 1 1 0 1 1 0 1 0 0 1 0 1 1 1 1 1 1 1 0 1 1 1 1 0 0 1 0 0 1 0 1 1 0 1\n [75] 0 0 0 1 1 0 1 0 0 1 0 1 0 0 1 1 1 1 1 1 1 1 0 1 1 0\n"
     ]
    }
   ],
   "source": [
    "x <- rnorm(100,1/2,1.2)\n",
    "x2 <- rnorm(100,1.1,1.2)\n",
    "\n",
    "logistic <- function(beta0,beta1,x){\n",
    "    return(1/(1+exp(-beta0-beta1*x)))\n",
    "}\n",
    "# logistic(0.3,1.7,x)\n",
    "y = rbinom(100,1,logistic(0.3,1.7,x))\n",
    "y2 = rbinom(100,1,logistic(0.3,1.7,x2))\n",
    "print(y)\n"
   ]
  },
  {
   "cell_type": "code",
   "execution_count": 164,
   "metadata": {},
   "outputs": [
    {
     "output_type": "stream",
     "name": "stdout",
     "text": [
      "[1] 0\n"
     ]
    }
   ],
   "source": [
    "m = 1\n",
    "gamma=0.001\n",
    "beta = c(0,0)\n",
    "beta0v = c(beta[1])\n",
    "for(t in 1:m){\n",
    "    p <- logistic(beta[1],beta[2],x)\n",
    "    beta <- beta + gamma*sum(x*(y-p))\n",
    "    beta0v = append(beta[1],beta0v)\n",
    "}\n"
   ]
  }
 ]
}