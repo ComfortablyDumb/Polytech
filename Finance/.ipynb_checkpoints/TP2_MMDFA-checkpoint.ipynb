{
 "cells": [
  {
   "cell_type": "code",
   "execution_count": 58,
   "metadata": {},
   "outputs": [
    {
     "name": "stdout",
     "output_type": "stream",
     "text": [
      "R = 1.0010005001667084  p = 0.547524195428134\n"
     ]
    }
   ],
   "source": [
    "# TP 2 - Espérance conditionnelle (reprendre le TP1 au début)\r\n",
    "\r\n",
    "import numpy as np\r\n",
    "\r\n",
    "n = 100 # nombre d'étapes\r\n",
    "T = 1.0 # temps final\r\n",
    "deltat = T/n # pas de temps\r\n",
    "S0 = 80 # prix initial\r\n",
    "sigma = 0.1 # volatilité\r\n",
    "up = np.exp(sigma*np.sqrt(deltat)) # up\r\n",
    "down = 1/up # down\r\n",
    "\r\n",
    "# taux d'intérêt et facteur d'actualisation\r\n",
    "r = 0.1\r\n",
    "R = np.exp(r*deltat)\r\n",
    "\r\n",
    "# probabilité risque neutre\r\n",
    "p = (R-down)/(up-down)\r\n",
    "\r\n",
    "print(\"R =\",R,\" p =\",p)"
   ]
  },
  {
   "cell_type": "code",
   "execution_count": 59,
   "metadata": {},
   "outputs": [],
   "source": [
    "# matrice des prix de l'actif\n",
    "def CRR(n,down,up,S0):\n",
    "    S = np.zeros((n+1,n+1))\n",
    "    S[0,0] = S0\n",
    "    for i in range(n):\n",
    "        S[i+1,0] = S[i,0]*down\n",
    "        for j in range(i+1):\n",
    "            S[i+1,j+1] = S[i,j]*up\n",
    "    return S\n"
   ]
  },
  {
   "cell_type": "code",
   "execution_count": 60,
   "metadata": {},
   "outputs": [
    {
     "data": {
      "text/plain": "array([[ 80.        ,   0.        ,   0.        , ...,   0.        ,\n          0.        ,   0.        ],\n       [ 79.2039867 ,  80.80401337,   0.        , ...,   0.        ,\n          0.        ,   0.        ],\n       [ 78.41589386,  80.        ,  81.6161072 , ...,   0.        ,\n          0.        ,   0.        ],\n       ...,\n       [ 30.02488791,  30.63143088,  31.25022683, ..., 213.15649935,\n          0.        ,   0.        ],\n       [ 29.72613528,  30.32664305,  30.93928188, ..., 211.03555675,\n        215.29875779,   0.        ],\n       [ 29.43035529,  30.02488791,  30.63143088, ..., 208.93571787,\n        213.15649935, 217.46254628]])"
     },
     "execution_count": 60,
     "metadata": {},
     "output_type": "execute_result"
    }
   ],
   "source": [
    "S = CRR(n,down,up,S0)\n",
    "S"
   ]
  },
  {
   "cell_type": "code",
   "execution_count": 61,
   "metadata": {},
   "outputs": [],
   "source": [
    "# paramètres de l'option\r\n",
    "K = S0 # strike (ici, option à la \"monnaie\")\r\n",
    "\r\n",
    "def payoff(S,K):\r\n",
    "    phi = np.max(S-K,0) # option d'achat\r\n",
    "    return phi\r\n"
   ]
  },
  {
   "cell_type": "code",
   "execution_count": 62,
   "metadata": {},
   "outputs": [],
   "source": [
    "# évaluation du prix de l'option par récurrence rétrograde\r\n",
    "C = np.zeros((n+1,n+1))\r\n",
    "for j in range(n+1):\r\n",
    "    C[n,j] = payoff(S[n,j],K) # valeur finale\r\n",
    "for i in range(n-1,-1,-1):\r\n",
    "    for j in range(i+1):\r\n",
    "        C[i,j] = (p*C[i+1,j+1]+(1-p)*C[i+1,j])/R\r\n"
   ]
  },
  {
   "cell_type": "code",
   "execution_count": 63,
   "metadata": {},
   "outputs": [
    {
     "name": "stdout",
     "output_type": "stream",
     "text": [
      "La prime du contrat vaut C0 = 7.6130065571235805\n"
     ]
    }
   ],
   "source": [
    "print(\"La prime du contrat vaut C0 =\",C[0,0])"
   ]
  },
  {
   "cell_type": "code",
   "execution_count": 64,
   "metadata": {},
   "outputs": [
    {
     "data": {
      "text/plain": "8.413673446052229"
     },
     "execution_count": 64,
     "metadata": {},
     "output_type": "execute_result"
    }
   ],
   "source": [
    "C[0,0]*R**n"
   ]
  },
  {
   "cell_type": "code",
   "execution_count": 65,
   "metadata": {},
   "outputs": [
    {
     "ename": "TypeError",
     "evalue": "unsupported operand type(s) for *: 'rv_frozen' and 'float'",
     "output_type": "error",
     "traceback": [
      "\u001b[1;31m---------------------------------------------------------------------------\u001b[0m",
      "\u001b[1;31mTypeError\u001b[0m                                 Traceback (most recent call last)",
      "\u001b[1;32m<ipython-input-65-1411cd716dbc>\u001b[0m in \u001b[0;36m<module>\u001b[1;34m\u001b[0m\n\u001b[0;32m      8\u001b[0m     \u001b[1;32mfor\u001b[0m \u001b[0mj\u001b[0m \u001b[1;32min\u001b[0m \u001b[0mrange\u001b[0m\u001b[1;33m(\u001b[0m\u001b[0mi\u001b[0m\u001b[1;33m+\u001b[0m\u001b[1;36m1\u001b[0m\u001b[1;33m)\u001b[0m\u001b[1;33m:\u001b[0m\u001b[1;33m\u001b[0m\u001b[1;33m\u001b[0m\u001b[0m\n\u001b[0;32m      9\u001b[0m         \u001b[1;32mfor\u001b[0m \u001b[0mk\u001b[0m \u001b[1;32min\u001b[0m \u001b[0mrange\u001b[0m\u001b[1;33m(\u001b[0m\u001b[0mj\u001b[0m\u001b[1;33m,\u001b[0m\u001b[0mj\u001b[0m\u001b[1;33m+\u001b[0m\u001b[0mn\u001b[0m\u001b[1;33m+\u001b[0m\u001b[1;36m1\u001b[0m\u001b[1;33m-\u001b[0m\u001b[0mi\u001b[0m\u001b[1;33m)\u001b[0m\u001b[1;33m:\u001b[0m\u001b[1;33m\u001b[0m\u001b[1;33m\u001b[0m\u001b[0m\n\u001b[1;32m---> 10\u001b[1;33m             \u001b[0mCC\u001b[0m\u001b[1;33m[\u001b[0m\u001b[0mi\u001b[0m\u001b[1;33m,\u001b[0m\u001b[0mj\u001b[0m\u001b[1;33m]\u001b[0m \u001b[1;33m+=\u001b[0m \u001b[0mbinom\u001b[0m\u001b[1;33m(\u001b[0m\u001b[0mn\u001b[0m\u001b[1;33m,\u001b[0m\u001b[0mj\u001b[0m\u001b[1;33m)\u001b[0m\u001b[1;33m*\u001b[0m\u001b[0mp\u001b[0m\u001b[1;33m**\u001b[0m\u001b[0mj\u001b[0m\u001b[1;33m*\u001b[0m\u001b[1;33m(\u001b[0m\u001b[1;36m1\u001b[0m\u001b[1;33m-\u001b[0m\u001b[0mp\u001b[0m\u001b[1;33m)\u001b[0m\u001b[1;33m**\u001b[0m\u001b[1;33m(\u001b[0m\u001b[0mn\u001b[0m\u001b[1;33m-\u001b[0m\u001b[0mj\u001b[0m\u001b[1;33m)\u001b[0m\u001b[1;33m*\u001b[0m\u001b[0mpayoff\u001b[0m\u001b[1;33m(\u001b[0m\u001b[0mS0\u001b[0m\u001b[1;33m*\u001b[0m\u001b[0mup\u001b[0m\u001b[1;33m**\u001b[0m\u001b[0mj\u001b[0m\u001b[1;33m*\u001b[0m\u001b[0mdown\u001b[0m\u001b[1;33m**\u001b[0m\u001b[1;33m(\u001b[0m\u001b[0mn\u001b[0m\u001b[1;33m-\u001b[0m\u001b[0mj\u001b[0m\u001b[1;33m)\u001b[0m\u001b[1;33m,\u001b[0m\u001b[0mK\u001b[0m\u001b[1;33m)\u001b[0m \u001b[1;31m# somme binomiale\u001b[0m\u001b[1;33m\u001b[0m\u001b[1;33m\u001b[0m\u001b[0m\n\u001b[0m\u001b[0;32m     11\u001b[0m         \u001b[0mCC\u001b[0m\u001b[1;33m[\u001b[0m\u001b[0mi\u001b[0m\u001b[1;33m,\u001b[0m\u001b[0mj\u001b[0m\u001b[1;33m]\u001b[0m \u001b[1;33m=\u001b[0m \u001b[0mCC\u001b[0m\u001b[1;33m[\u001b[0m\u001b[0mi\u001b[0m\u001b[1;33m,\u001b[0m\u001b[0mj\u001b[0m\u001b[1;33m]\u001b[0m\u001b[1;33m/\u001b[0m\u001b[0mR\u001b[0m \u001b[1;31m# facteur d'actualisation\u001b[0m\u001b[1;33m\u001b[0m\u001b[1;33m\u001b[0m\u001b[0m\n",
      "\u001b[1;31mTypeError\u001b[0m: unsupported operand type(s) for *: 'rv_frozen' and 'float'"
     ]
    }
   ],
   "source": [
    "from scipy.stats import binom\r\n",
    "\r\n",
    "# calcul des valeurs de l'option par formule binomiale directe\r\n",
    "CC = np.zeros((n+1,n+1))\r\n",
    "for j in range(n+1):\r\n",
    "    CC[n,j] = payoff(S[n,j],K) #valeur finale\r\n",
    "for i in range(n+1):\r\n",
    "    for j in range(i+1):\r\n",
    "        for k in range(j,j+n+1-i):\r\n",
    "            CC[i,j] += ?? # somme binomiale\r\n",
    "        CC[i,j] = CC[i,j]/R # facteur d'actualisation\r\n"
   ]
  },
  {
   "cell_type": "code",
   "execution_count": null,
   "metadata": {},
   "outputs": [],
   "source": [
    "print(\"La prime du contrat vaut C0=\",CC[0,0])\n",
    "print(\"Erreur entre les 2 calculs =\",np.amax(C-CC))"
   ]
  },
  {
   "cell_type": "code",
   "execution_count": null,
   "metadata": {
    "scrolled": true
   },
   "outputs": [],
   "source": [
    "# librairies graphiques\n",
    "import matplotlib.pyplot as plt\n",
    "import matplotlib.collections as mc\n",
    "\n",
    "# liste des couples de points\n",
    "lines = []\n",
    "for i in range(0,n+1,10):\n",
    "    for j in range(i):\n",
    "        lines.append([(S[i,j],C[i,j]),(S[i,j+1],C[i,j+1])])\n",
    "\n",
    "# plot\n",
    "lc = mc.LineCollection(lines, cmap=plt.cm.rainbow, linewidths=2)\n",
    "fig,ax = plt.subplots()\n",
    "ax.set_xlim(0,S.max())\n",
    "ax.set_ylim(0,C.max())\n",
    "ax.add_collection(lc)\n",
    "plt.show()\n"
   ]
  },
  {
   "cell_type": "code",
   "execution_count": null,
   "metadata": {},
   "outputs": [],
   "source": [
    "# Variations de la prime en fonction du strike\n",
    "deltaK = int(S0/10)\n",
    "CCK = np.zeros(20)\n",
    "for l in range(20):\n",
    "    for k in range(n+1):\n",
    "        CCK[l] += ?? #somme binomiale\n",
    "    CCK[l] = CCK[l]/?? #facteur d'actualisation\n",
    "    "
   ]
  },
  {
   "cell_type": "code",
   "execution_count": null,
   "metadata": {},
   "outputs": [],
   "source": [
    "plt.plot(range(0,20*deltaK,deltaK),CCK)\n",
    "plt.show()"
   ]
  },
  {
   "cell_type": "code",
   "execution_count": null,
   "metadata": {},
   "outputs": [],
   "source": [
    "# Variations de la prime en fonction de la volatilité\n",
    "deltasigma = 0.02\n",
    "CCsigma = np.zeros(20)\n",
    "sigmatab = np.zeros(20)\n",
    "for l in range(20):\n",
    "    sigmatab[l] = (l+1)*deltasigma\n",
    "    uptmp = ??\n",
    "    downtmp = ??\n",
    "    Stmp = CRR(n,downtmp,uptmp,S0)\n",
    "    ptmp = (R-downtmp)/(uptmp-downtmp)\n",
    "    for k in range(n+1):\n",
    "        CCsigma[l] += ?? #somme binomiale\n",
    "    CCsigma[l] = CCsigma[l]/?? #facteur d'actualisation\n"
   ]
  },
  {
   "cell_type": "code",
   "execution_count": null,
   "metadata": {},
   "outputs": [],
   "source": [
    "plt.plot(sigmatab,CCsigma)\n",
    "plt.show()"
   ]
  },
  {
   "cell_type": "code",
   "execution_count": null,
   "metadata": {},
   "outputs": [],
   "source": []
  },
  {
   "cell_type": "code",
   "execution_count": null,
   "metadata": {},
   "outputs": [],
   "source": []
  }
 ],
 "metadata": {
  "kernelspec": {
   "display_name": "Python 3",
   "language": "python",
   "name": "python3"
  },
  "language_info": {
   "codemirror_mode": {
    "name": "ipython",
    "version": 3
   },
   "file_extension": ".py",
   "mimetype": "text/x-python",
   "name": "python",
   "nbconvert_exporter": "python",
   "pygments_lexer": "ipython3",
   "version": "3.9.1"
  }
 },
 "nbformat": 4,
 "nbformat_minor": 4
}