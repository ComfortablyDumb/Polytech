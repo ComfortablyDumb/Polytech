{
 "cells": [
  {
   "cell_type": "code",
   "execution_count": 14,
   "metadata": {},
   "outputs": [
    {
     "name": "stdout",
     "output_type": "stream",
     "text": [
      "p = 0.5025001875049342\n"
     ]
    }
   ],
   "source": [
    "# TP 2 - Options américaines (reprendre le TP2 au début)\r\n",
    "\r\n",
    "import numpy as np\r\n",
    "\r\n",
    "n = 100 # nombre d'étapes\r\n",
    "T = 1.0 # temps final\r\n",
    "deltat = T/n # pas de temps\r\n",
    "S0 = 80 # prix initial\r\n",
    "sigma = 0.1 # volatilité\r\n",
    "up = np.exp(sigma*np.sqrt(deltat)) # up\r\n",
    "down = 1/up # down\r\n",
    "\r\n",
    "# taux d'intérêt et facteur d'actualisation\r\n",
    "r = 0.01\r\n",
    "R = np.exp(r*deltat)\r\n",
    "\r\n",
    "# probabilité risque neutre\r\n",
    "p = (R-down)/(up-down)\r\n",
    "\r\n",
    "print(\"p =\",p)"
   ]
  },
  {
   "cell_type": "code",
   "execution_count": 15,
   "metadata": {},
   "outputs": [],
   "source": [
    "# matrice des prix de l'actif (TP1)\n",
    "def CRR(n,down,up,S0):\n",
    "    S = np.zeros((n+1,n+1))\n",
    "    S[0,0] = S0\n",
    "    for i in range(n):\n",
    "        S[i+1,0] = S[i,0]*down\n",
    "        for j in range(i+1):\n",
    "            S[i+1,j+1] = S[i,j]*up\n",
    "    return S\n"
   ]
  },
  {
   "cell_type": "code",
   "execution_count": 16,
   "metadata": {},
   "outputs": [
    {
     "data": {
      "text/plain": "array([[ 80.        ,   0.        ,   0.        , ...,   0.        ,\n          0.        ,   0.        ],\n       [ 79.2039867 ,  80.80401337,   0.        , ...,   0.        ,\n          0.        ,   0.        ],\n       [ 78.41589386,  80.        ,  81.6161072 , ...,   0.        ,\n          0.        ,   0.        ],\n       ...,\n       [ 30.02488791,  30.63143088,  31.25022683, ..., 213.15649935,\n          0.        ,   0.        ],\n       [ 29.72613528,  30.32664305,  30.93928188, ..., 211.03555675,\n        215.29875779,   0.        ],\n       [ 29.43035529,  30.02488791,  30.63143088, ..., 208.93571787,\n        213.15649935, 217.46254628]])"
     },
     "execution_count": 16,
     "metadata": {},
     "output_type": "execute_result"
    }
   ],
   "source": [
    "S = CRR(n,down,up,S0)\n",
    "S"
   ]
  },
  {
   "cell_type": "code",
   "execution_count": 17,
   "metadata": {},
   "outputs": [],
   "source": [
    "# paramètres de l'option\r\n",
    "K = S0 # strike (ici, option à la \"monnaie\")\r\n",
    "\r\n",
    "def payoffcall(S,K):\r\n",
    "    phicall = max(S-K,0) # option d'achat\r\n",
    "    return phicall\r\n",
    "\r\n",
    "def payoffput(S,K):\r\n",
    "    phiput = max(K-S,0) # option de vente\r\n",
    "    return phiput\r\n"
   ]
  },
  {
   "cell_type": "code",
   "execution_count": 18,
   "metadata": {},
   "outputs": [],
   "source": [
    "# évaluation du prix d'un call européen par récurrence rétrograde\n",
    "C = np.zeros((n+1,n+1))\n",
    "for j in range(n+1):\n",
    "    C[n,j] = payoffcall(S[n,j],K)\n",
    "for i in range(n-1,-1,-1):\n",
    "    for j in range(i+1):\n",
    "        C[i,j] = (p*C[i+1,j+1]+(1-p)*C[i+1,j])/R\n"
   ]
  },
  {
   "cell_type": "code",
   "execution_count": 19,
   "metadata": {},
   "outputs": [
    {
     "name": "stdout",
     "output_type": "stream",
     "text": [
      "La prime du contrat call européen vaut C0 = 3.5802241626860263\n"
     ]
    }
   ],
   "source": [
    "print(\"La prime du contrat call européen vaut C0 =\",C[0,0])"
   ]
  },
  {
   "cell_type": "code",
   "execution_count": 20,
   "metadata": {
    "scrolled": true
   },
   "outputs": [
    {
     "data": {
      "image/png": "[encoded data removed]",
      "text/plain": "<Figure size 432x288 with 1 Axes>"
     },
     "metadata": {
      "needs_background": "light"
     },
     "output_type": "display_data"
    }
   ],
   "source": [
    "# librairies graphiques\n",
    "import matplotlib.pyplot as plt\n",
    "import matplotlib.collections as mc\n",
    "\n",
    "# liste des couples de points\n",
    "lines = []\n",
    "for i in range(0,n+1,20):\n",
    "    for j in range(i):\n",
    "        lines.append([(S[i,j],C[i,j]),(S[i,j+1],C[i,j+1])])\n",
    "\n",
    "# plot\n",
    "lc = mc.LineCollection(lines, cmap=plt.cm.rainbow, linewidths=2)\n",
    "fig,ax = plt.subplots()\n",
    "ax.set_xlim(0,S.max())\n",
    "ax.set_ylim(0,C.max())\n",
    "ax.add_collection(lc)\n",
    "plt.show()\n"
   ]
  },
  {
   "cell_type": "code",
   "execution_count": 21,
   "metadata": {},
   "outputs": [],
   "source": [
    "# évaluation du prix d'un call américain par récurrence rétrograde\r\n",
    "CA = np.zeros((n+1,n+1))\r\n",
    "for j in range(n+1):\r\n",
    "    CA[n,j] = payoffcall(S[n,j],K)\r\n",
    "for i in range(n-1,-1,-1):\r\n",
    "    for j in range(i+1):\r\n",
    "        CA[i,j] = max(payoffcall(S[i,j],K),(p*CA[i+1,j+1]+(1-p)*CA[i+1,j])/R)\r\n"
   ]
  },
  {
   "cell_type": "code",
   "execution_count": 22,
   "metadata": {},
   "outputs": [
    {
     "name": "stdout",
     "output_type": "stream",
     "text": [
      "La prime du contrat call américain vaut CA0 = 3.5802241626860263\n"
     ]
    }
   ],
   "source": [
    "print(\"La prime du contrat call américain vaut CA0 =\",CA[0,0])"
   ]
  },
  {
   "cell_type": "code",
   "execution_count": 23,
   "metadata": {},
   "outputs": [
    {
     "data": {
      "image/png": "[encoded data removed]",
      "text/plain": "<Figure size 432x288 with 1 Axes>"
     },
     "metadata": {
      "needs_background": "light"
     },
     "output_type": "display_data"
    }
   ],
   "source": [
    "# on représente l'option américaine en fonction du prix de l'actif\n",
    "lines = []\n",
    "for i in range(0,n+1,20):\n",
    "    for j in range(i):\n",
    "        lines.append([(S[i,j],CA[i,j]),(S[i,j+1],CA[i,j+1])])\n",
    "\n",
    "# plot\n",
    "lc = mc.LineCollection(lines, cmap=plt.cm.rainbow, linewidths=2)\n",
    "fig,ax = plt.subplots()\n",
    "ax.set_xlim(0,S.max())\n",
    "ax.set_ylim(0,C.max())\n",
    "ax.add_collection(lc)\n",
    "plt.show()\n"
   ]
  },
  {
   "cell_type": "code",
   "execution_count": 24,
   "metadata": {},
   "outputs": [],
   "source": [
    "# put européen\r\n",
    "P = np.zeros((n+1,n+1))\r\n",
    "for j in range(n+1):\r\n",
    "    P[n,j] = payoffput(S[n,j],K)\r\n",
    "for i in range(n-1,-1,-1):\r\n",
    "    for j in range(i+1):\r\n",
    "        P[i,j] = (p*P[i+1,j+1]+(1-p)*P[i+1,j])/R\r\n",
    "\r\n",
    "# put américain\r\n",
    "PA = np.zeros((n+1,n+1))\r\n",
    "for j in range(n+1):\r\n",
    "    PA[n,j] = payoffput(S[n,j],K)\r\n",
    "for i in range(n-1,-1,-1):\r\n",
    "    for j in range(i+1):\r\n",
    "        PA[i,j] = max(payoffput(S[i,j],K),(p*PA[i+1,j+1]+(1-p)*PA[i+1,j])/R)\r\n"
   ]
  },
  {
   "cell_type": "code",
   "execution_count": 25,
   "metadata": {},
   "outputs": [
    {
     "data": {
      "image/png": "[encoded data removed]",
      "text/plain": "<Figure size 432x288 with 1 Axes>"
     },
     "metadata": {
      "needs_background": "light"
     },
     "output_type": "display_data"
    }
   ],
   "source": [
    "# on représente le put européen en fonction du prix de l'actif\n",
    "lines = []\n",
    "for i in range(0,n+1,20):\n",
    "    for j in range(i):\n",
    "        lines.append([(S[i,j],P[i,j]),(S[i,j+1],P[i,j+1])])\n",
    "\n",
    "# plot\n",
    "lc = mc.LineCollection(lines, cmap=plt.cm.rainbow, linewidths=2)\n",
    "fig,ax = plt.subplots()\n",
    "ax.set_xlim(0,S.max())\n",
    "ax.set_ylim(0,C.max())\n",
    "ax.add_collection(lc)\n",
    "plt.show()\n"
   ]
  },
  {
   "cell_type": "code",
   "execution_count": 26,
   "metadata": {},
   "outputs": [
    {
     "data": {
      "image/png": "[encoded data removed]",
      "text/plain": "<Figure size 432x288 with 1 Axes>"
     },
     "metadata": {
      "needs_background": "light"
     },
     "output_type": "display_data"
    }
   ],
   "source": [
    "# on représente le put américain en fonction du prix de l'actif\n",
    "lines = []\n",
    "for i in range(0,n+1,20):\n",
    "    for j in range(i):\n",
    "        lines.append([(S[i,j],PA[i,j]),(S[i,j+1],PA[i,j+1])])\n",
    "\n",
    "# plot\n",
    "lc = mc.LineCollection(lines, cmap=plt.cm.rainbow, linewidths=2)\n",
    "fig,ax = plt.subplots()\n",
    "ax.set_xlim(0,S.max())\n",
    "ax.set_ylim(0,C.max())\n",
    "ax.add_collection(lc)\n",
    "plt.show()\n"
   ]
  },
  {
   "cell_type": "code",
   "execution_count": 27,
   "metadata": {},
   "outputs": [
    {
     "name": "stdout",
     "output_type": "stream",
     "text": [
      "Les primes sont: call européen: 3.5802241626860263  - call américain: 3.5802241626860263\n",
      "Les primes sont: put européen: 2.7842108626190885  - put américain: 2.852872130458123\n"
     ]
    }
   ],
   "source": [
    "print('Les primes sont: call européen:',C[0,0],' - call américain:',CA[0,0])\r\n",
    "print('Les primes sont: put européen:',P[0,0],' - put américain:',PA[0,0])"
   ]
  },
  {
   "cell_type": "code",
   "execution_count": 28,
   "metadata": {},
   "outputs": [],
   "source": [
    "# frontière d'exercice du put américain\r\n",
    "EPA = np.ones((n+1,n+1)) # 0 si on attend, 1 si on exerce\r\n",
    "for j in range(n+1):\r\n",
    "    if S[n,j]<=K:\r\n",
    "        EPA[n,j]=1\r\n",
    "    else:\r\n",
    "        EPA[n,j]=-1\r\n",
    "for i in range(n-1,-1,-1):\r\n",
    "    for j in range(i+1):\r\n",
    "        if (p*PA[i+1,j+1]+(1-p)*P[i+1,j])>=payoffput(S[i,j],K):\r\n",
    "            EPA[i,j]=-1\r\n",
    "        else:\r\n",
    "            EPA[i,j]=1\r\n",
    "\r\n"
   ]
  },
  {
   "cell_type": "code",
   "execution_count": 29,
   "metadata": {},
   "outputs": [
    {
     "data": {
      "image/png": "[encoded data removed]",
      "text/plain": "<Figure size 432x288 with 1 Axes>"
     },
     "metadata": {
      "needs_background": "light"
     },
     "output_type": "display_data"
    }
   ],
   "source": [
    "for i in range(n+1):\r\n",
    "    for j in range(i+1):\r\n",
    "        if EPA[i,j]==1:\r\n",
    "            plt.plot(i,S[i,j],'ro')\r\n",
    "        else:\r\n",
    "            plt.plot(i,S[i,j],'b+')"
   ]
  },
  {
   "cell_type": "code",
   "execution_count": 30,
   "metadata": {},
   "outputs": [
    {
     "data": {
      "text/plain": "array([ 0.        ,  0.        ,  0.        ,  0.        ,  0.        ,\n        0.        ,  0.        ,  0.        ,  0.        ,  0.        ,\n        0.        , 71.66673082, 70.95363494, 71.66673082, 70.95363494,\n       71.66673082, 70.95363494, 71.66673082, 70.95363494, 71.66673082,\n       70.95363494, 71.66673082, 72.38699344, 71.66673082, 72.38699344,\n       71.66673082, 72.38699344, 71.66673082, 72.38699344, 71.66673082,\n       72.38699344, 71.66673082, 72.38699344, 71.66673082, 72.38699344,\n       71.66673082, 72.38699344, 71.66673082, 72.38699344, 71.66673082,\n       72.38699344, 71.66673082, 72.38699344, 71.66673082, 72.38699344,\n       73.11449482, 72.38699344, 73.11449482, 72.38699344, 73.11449482,\n       72.38699344, 73.11449482, 72.38699344, 73.11449482, 72.38699344,\n       73.11449482, 72.38699344, 73.11449482, 72.38699344, 73.11449482,\n       72.38699344, 73.11449482, 73.84930771, 73.11449482, 73.84930771,\n       73.11449482, 73.84930771, 73.11449482, 73.84930771, 73.11449482,\n       73.84930771, 73.11449482, 73.84930771, 74.59150559, 73.84930771,\n       74.59150559, 73.84930771, 74.59150559, 73.84930771, 74.59150559,\n       73.84930771, 74.59150559, 73.84930771, 74.59150559, 75.34116269,\n       74.59150559, 75.34116269, 74.59150559, 75.34116269, 76.09835396,\n       75.34116269, 76.09835396, 75.34116269, 76.09835396, 76.86315513,\n       76.09835396, 76.86315513, 77.63564268, 78.41589386, 79.2039867 ,\n       80.        ])"
     },
     "execution_count": 30,
     "metadata": {},
     "output_type": "execute_result"
    }
   ],
   "source": [
    "# recherche de la frontière\r\n",
    "F = np.zeros(n+1) # prix correspondant à l'indice maximal de la zone rouge\r\n",
    "for i in range(n+1):\r\n",
    "    prixrouge = S[i,[j for j in range(n+1) if EPA[i,j]==1]] # prix de la zone rouge\r\n",
    "    if prixrouge.size>0:\r\n",
    "        F[i] = np.amax(prixrouge) # on récupère le prix max des rouges\r\n",
    "F"
   ]
  },
  {
   "cell_type": "code",
   "execution_count": 31,
   "metadata": {},
   "outputs": [
    {
     "data": {
      "image/png": "[encoded data removed]",
      "text/plain": "<Figure size 432x288 with 1 Axes>"
     },
     "metadata": {
      "needs_background": "light"
     },
     "output_type": "display_data"
    }
   ],
   "source": [
    "# on dessine la frontière rouge\r\n",
    "indice = np.amin(np.nonzero(F)) # indice temporel du début de la zone rouge\r\n",
    "plt.plot(range(indice,n+1),F[indice:n+1])\r\n",
    "plt.show()"
   ]
  },
  {
   "cell_type": "code",
   "execution_count": null,
   "metadata": {},
   "outputs": [],
   "source": []
  },
  {
   "cell_type": "code",
   "execution_count": null,
   "metadata": {},
   "outputs": [],
   "source": []
  }
 ],
 "metadata": {
  "kernelspec": {
   "display_name": "Python 3",
   "language": "python",
   "name": "python3"
  },
  "language_info": {
   "codemirror_mode": {
    "name": "ipython",
    "version": 3
   },
   "file_extension": ".py",
   "mimetype": "text/x-python",
   "name": "python",
   "nbconvert_exporter": "python",
   "pygments_lexer": "ipython3",
   "version": "3.9.1"
  }
 },
 "nbformat": 4,
 "nbformat_minor": 4
}