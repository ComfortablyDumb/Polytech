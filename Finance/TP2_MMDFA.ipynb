{
 "cells": [
  {
   "cell_type": "markdown",
   "metadata": {},
   "source": [
    "# TP 2 - Espérance conditionnelle\n",
    "\n"
   ]
  },
  {
   "cell_type": "code",
   "execution_count": 48,
   "metadata": {},
   "outputs": [
    {
     "name": "stdout",
     "output_type": "stream",
     "text": [
      "R = 1.0010005001667084  p = 0.547524195428134\n"
     ]
    }
   ],
   "source": [
    "\n",
    "\n",
    "import numpy as np\n",
    "\n",
    "n = 100 # nombre d'étapes\n",
    "T = 1.0 # temps final\n",
    "deltat = T/n # pas de temps\n",
    "S0 = 80 # prix initial\n",
    "sigma = 0.1 # volatilité\n",
    "up = np.exp(sigma*np.sqrt(deltat)) # up\n",
    "down = 1/up # down\n",
    "\n",
    "# taux d'intérêt et facteur d'actualisation\n",
    "r = 0.1\n",
    "R = np.exp(r*deltat)\n",
    "\n",
    "# probabilité risque neutre\n",
    "p = (R-down)/(up-down)\n",
    "\n",
    "print(\"R =\",R,\" p =\",p)"
   ]
  },
  {
   "cell_type": "code",
   "execution_count": 49,
   "metadata": {},
   "outputs": [],
   "source": [
    "# matrice des prix de l'actif\n",
    "def CRR(n,down,up,S0):\n",
    "    S = np.zeros((n+1,n+1))\n",
    "    S[0,0] = S0\n",
    "    for i in range(n):\n",
    "        S[i+1,0] = S[i,0]*down\n",
    "        for j in range(i+1):\n",
    "            S[i+1,j+1] = S[i,j]*up\n",
    "    return S\n"
   ]
  },
  {
   "cell_type": "code",
   "execution_count": 50,
   "metadata": {},
   "outputs": [
    {
     "data": {
      "text/plain": [
       "array([[ 80.        ,   0.        ,   0.        , ...,   0.        ,\n",
       "          0.        ,   0.        ],\n",
       "       [ 79.2039867 ,  80.80401337,   0.        , ...,   0.        ,\n",
       "          0.        ,   0.        ],\n",
       "       [ 78.41589386,  80.        ,  81.6161072 , ...,   0.        ,\n",
       "          0.        ,   0.        ],\n",
       "       ...,\n",
       "       [ 30.02488791,  30.63143088,  31.25022683, ..., 213.15649935,\n",
       "          0.        ,   0.        ],\n",
       "       [ 29.72613528,  30.32664305,  30.93928188, ..., 211.03555675,\n",
       "        215.29875779,   0.        ],\n",
       "       [ 29.43035529,  30.02488791,  30.63143088, ..., 208.93571787,\n",
       "        213.15649935, 217.46254628]])"
      ]
     },
     "execution_count": 50,
     "metadata": {},
     "output_type": "execute_result"
    }
   ],
   "source": [
    "S = CRR(n,down,up,S0)\n",
    "S"
   ]
  },
  {
   "cell_type": "code",
   "execution_count": 51,
   "metadata": {},
   "outputs": [],
   "source": [
    "# paramètres de l'option\n",
    "K = S0 # strike (ici, option à la \"monnaie\")\n",
    "\n",
    "def payoff(S,K):\n",
    "    phi = max(S-K,0) # option d'achat\n",
    "    return phi\n"
   ]
  },
  {
   "cell_type": "code",
   "execution_count": 52,
   "metadata": {},
   "outputs": [],
   "source": [
    "# évaluation du prix de l'option par récurrence rétrograde\n",
    "C = np.zeros((n+1,n+1))\n",
    "for j in range(n+1):\n",
    "    C[n,j] = payoff(S[n,j],K) # valeur finale\n",
    "for i in range(n-1,-1,-1):\n",
    "    for j in range(i+1):\n",
    "        C[i,j] = (p*C[i+1,j+1]+(1-p)*C[i+1,j])/R\n"
   ]
  },
  {
   "cell_type": "code",
   "execution_count": 53,
   "metadata": {},
   "outputs": [
    {
     "name": "stdout",
     "output_type": "stream",
     "text": [
      "La prime du contrat vaut C0 = 8.237337130956632\n"
     ]
    }
   ],
   "source": [
    "print(\"La prime du contrat vaut C0 =\",C[0,0])"
   ]
  },
  {
   "cell_type": "code",
   "execution_count": 54,
   "metadata": {},
   "outputs": [
    {
     "data": {
      "text/plain": [
       "9.103665439518002"
      ]
     },
     "execution_count": 54,
     "metadata": {},
     "output_type": "execute_result"
    }
   ],
   "source": [
    "C[0,0]*R**n"
   ]
  },
  {
   "cell_type": "code",
   "execution_count": 55,
   "metadata": {},
   "outputs": [],
   "source": [
    "from scipy.stats import binom\n",
    "\n",
    "# calcul des valeurs de l'option par formule binomiale directe\n",
    "CC = np.zeros((n+1,n+1))\n",
    "for j in range(n+1):\n",
    "    CC[n,j] = payoff(S[n,j],K) #valeur finale\n",
    "for i in range(n+1):\n",
    "    for j in range(i+1):\n",
    "        for k in range(n+1-i):\n",
    "            CC[i,j] += payoff(S[n,j+k],K)*binom.pmf(k,n-i,p) # somme binomiale\n",
    "        CC[i,j] = CC[i,j]/R # facteur d'actualisation\n"
   ]
  },
  {
   "cell_type": "code",
   "execution_count": 56,
   "metadata": {},
   "outputs": [
    {
     "name": "stdout",
     "output_type": "stream",
     "text": [
      "La prime du contrat vaut C0= 9.094566324394021\n",
      "Erreur entre les 2 calculs = 0.0\n"
     ]
    }
   ],
   "source": [
    "print(\"La prime du contrat vaut C0=\",CC[0,0])\n",
    "print(\"Erreur entre les 2 calculs =\",np.amax(C-CC))"
   ]
  },
  {
   "cell_type": "code",
   "execution_count": 57,
   "metadata": {
    "scrolled": false
   },
   "outputs": [
    {
     "data": {
      "image/png": "[encoded data removed]",
      "text/plain": [
       "<Figure size 432x288 with 1 Axes>"
      ]
     },
     "metadata": {
      "needs_background": "light"
     },
     "output_type": "display_data"
    }
   ],
   "source": [
    "# librairies graphiques\n",
    "import matplotlib.pyplot as plt\n",
    "import matplotlib.collections as mc\n",
    "\n",
    "# liste des couples de points\n",
    "lines = []\n",
    "for i in range(0,n+1,10):\n",
    "    for j in range(i):\n",
    "        lines.append([(S[i,j],C[i,j]),(S[i,j+1],C[i,j+1])])\n",
    "\n",
    "# plot\n",
    "lc = mc.LineCollection(lines, cmap=plt.cm.rainbow, linewidths=2)\n",
    "fig,ax = plt.subplots()\n",
    "ax.set_xlim(0,S.max())\n",
    "ax.set_ylim(0,C.max())\n",
    "ax.add_collection(lc)\n",
    "plt.show()\n"
   ]
  },
  {
   "cell_type": "markdown",
   "metadata": {},
   "source": [
    "## Variations de la prime en fonction du strike"
   ]
  },
  {
   "cell_type": "code",
   "execution_count": 59,
   "metadata": {},
   "outputs": [],
   "source": [
    "\n",
    "deltaK = int(S0/10)\n",
    "CCK = np.zeros(20)\n",
    "for l in range(20):\n",
    "    for k in range(n+1):\n",
    "        Ktmp = l*deltaK\n",
    "        CCK[l] += payoff(S[n,k],Ktmp)*binom.pmf(k,n,p) #somme binomiale\n",
    "    CCK[l] = CCK[l]/R**n #facteur d'actualisation\n",
    "    "
   ]
  },
  {
   "cell_type": "code",
   "execution_count": 60,
   "metadata": {
    "scrolled": true
   },
   "outputs": [
    {
     "data": {
      "image/png": "[encoded data removed]",
      "text/plain": [
       "<Figure size 432x288 with 1 Axes>"
      ]
     },
     "metadata": {
      "needs_background": "light"
     },
     "output_type": "display_data"
    }
   ],
   "source": [
    "plt.plot(range(0,20*deltaK,deltaK),CCK)\n",
    "plt.show()"
   ]
  },
  {
   "cell_type": "markdown",
   "metadata": {},
   "source": [
    "## Variation de la prime en fonction de la volatilité"
   ]
  },
  {
   "cell_type": "code",
   "execution_count": null,
   "metadata": {},
   "outputs": [],
   "source": [
    "\n",
    "deltasigma = 0.02\n",
    "CCsigma = np.zeros(20)\n",
    "sigmatab = np.zeros(20)\n",
    "for l in range(20):\n",
    "    sigmatab[l] = (l+1)*deltasigma\n",
    "    uptmp = np.exp(sigmatab[l]*np.sqrt(deltat))\n",
    "    downtmp = 1/uptmp\n",
    "    Stmp = CRR(n,downtmp,uptmp,S0)\n",
    "    ptmp = (R-downtmp)/(uptmp-downtmp)\n",
    "    for k in range(n+1):\n",
    "        CCsigma[l] +=  #somme binomiale\n",
    "    CCsigma[l] = CCsigma[l]/?? #facteur d'actualisation\n"
   ]
  },
  {
   "cell_type": "code",
   "execution_count": null,
   "metadata": {},
   "outputs": [],
   "source": [
    "plt.plot(sigmatab,CCsigma)\n",
    "plt.show()"
   ]
  },
  {
   "cell_type": "code",
   "execution_count": null,
   "metadata": {},
   "outputs": [],
   "source": []
  },
  {
   "cell_type": "code",
   "execution_count": null,
   "metadata": {},
   "outputs": [],
   "source": []
  }
 ],
 "metadata": {
  "kernelspec": {
   "display_name": "Python 3",
   "language": "python",
   "name": "python3"
  },
  "language_info": {
   "codemirror_mode": {
    "name": "ipython",
    "version": 3
   },
   "file_extension": ".py",
   "mimetype": "text/x-python",
   "name": "python",
   "nbconvert_exporter": "python",
   "pygments_lexer": "ipython3",
   "version": "3.9.1"
  }
 },
 "nbformat": 4,
 "nbformat_minor": 4
}
