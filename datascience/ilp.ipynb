{
 "metadata": {
  "language_info": {
   "codemirror_mode": {
    "name": "ipython",
    "version": 3
   },
   "file_extension": ".py",
   "mimetype": "text/x-python",
   "name": "python",
   "nbconvert_exporter": "python",
   "pygments_lexer": "ipython3",
   "version": "3.8.1-final"
  },
  "orig_nbformat": 2,
  "kernelspec": {
   "name": "python3",
   "display_name": "Python 3"
  }
 },
 "nbformat": 4,
 "nbformat_minor": 2,
 "cells": [
  {
   "cell_type": "code",
   "execution_count": 71,
   "metadata": {},
   "outputs": [
    {
     "output_type": "stream",
     "name": "stdout",
     "text": [
      "(False, 0)\n"
     ]
    }
   ],
   "source": [
    "import numpy as np\n",
    "from scipy.optimize import linprog\n",
    "import math\n",
    "np.set_printoptions(precision=4)\n",
    "def isInteger(x):\n",
    "    f = np.round(np.absolute(x-np.round(x)),6)\n",
    "    isZeros = (f==0).all()\n",
    "    if(isZeros):\n",
    "        return (True,None)\n",
    "    return (False,np.where(f==np.min(f[np.nonzero(f)]))[0][0])\n",
    "\n",
    "    \n",
    "    #v = ((f==0).all(),np.where(f==np.min(f[np.nonzero(f)]))[0][0])\n",
    "    \n",
    "\n",
    "x = [5.6,4.]\n",
    "print(isInteger(x))\n"
   ]
  },
  {
   "cell_type": "code",
   "execution_count": 72,
   "metadata": {},
   "outputs": [],
   "source": [
    "class Node:\n",
    "    def __init__(self,c,A,b):\n",
    "        res = linprog(c,A,b)\n",
    "        self.A = A\n",
    "        self.b = b\n",
    "        self.x=res.x\n",
    "        self.z=-res.fun\n",
    "    def __str__(self):\n",
    "        return \"(x={},z={})\".format(self.x,self.z)\n",
    "\n",
    "\n"
   ]
  },
  {
   "cell_type": "code",
   "execution_count": 76,
   "metadata": {
    "tags": []
   },
   "outputs": [
    {
     "output_type": "stream",
     "name": "stdout",
     "text": [
      "[135.99999999348873]\n[129.99999999974855, 134.99999974479732]\n[129.99999999974855, 131.99999996888982, 141.01588850324976]\n[129.99999999974855, 131.99999996888982, -0.0, 154.74846713244585]\n[129.99999999974855, 131.99999996888982, -0.0, -0.0, -0.0]\n[129.99999999974855, -0.0, -0.0, -0.0, 129.9999999998339, 129.99999999980957]\n[129.99999999974855, -0.0, -0.0, -0.0, 129.99999999980957]\n[129.99999999974855, -0.0, -0.0, -0.0]\n[-0.0, -0.0, -0.0]\n[-0.0, -0.0]\n[-0.0]\nx= [7. 3.]\nz= 129.9999999998339\n"
     ]
    }
   ],
   "source": [
    "c = [-10, -20]\n",
    "A = [[5,8],[1,0],[0,1]]\n",
    "b = [60,8,4]\n",
    "node = Node(c,A,b)\n",
    "nodeList = [node]\n",
    "x=None\n",
    "z = -math.inf\n",
    "k = 0\n",
    "while len(nodeList)!=0:\n",
    "    print([node.z for node in nodeList])\n",
    "    i = np.argmax([node.z for node in nodeList])\n",
    "    Si = nodeList[i]\n",
    "    #print(i)\n",
    "    nodeList.remove(Si)\n",
    "    isInt = isInteger(Si.x)\n",
    "    #print([node.x for node in nodeList])\n",
    "    if(Si.z>z and isInt[0]):\n",
    "        x=Si.x\n",
    "        z=Si.z\n",
    "    if(Si.z>z and not(isInt[0])):\n",
    "        x_floor = np.floor(Si.x[isInt[1]])\n",
    "        x_ceil = np.ceil(Si.x[isInt[1]])\n",
    "        vecA = np.zeros(len(c))\n",
    "        vecA[isInt[1]] = 1\n",
    "        vecA = list(vecA)\n",
    "        A_floor = Si.A.copy()\n",
    "        A_floor.append(vecA)\n",
    "        b_floor = Si.b.copy()\n",
    "        b_floor.append(x_floor)\n",
    "\n",
    "        vecB = list(np.zeros(len(c)))\n",
    "        vecB[isInt[1]] = -1\n",
    "        A_ceil = Si.A.copy()\n",
    "        A_ceil.append(vecB)\n",
    "        b_ceil = Si.b.copy()\n",
    "        b_ceil.append(-x_ceil)\n",
    "\n",
    "        node_floor = Node(c,A_floor,b_floor)\n",
    "        node_ceil = Node(c,A_ceil,b_ceil)\n",
    "        nodeList.append(node_floor)\n",
    "        nodeList.append(node_ceil)\n",
    "        \n",
    "print(\"x=\",x)\n",
    "print(\"z=\",z)\n",
    "\n",
    "        \n",
    "\n",
    "\n",
    "\n",
    "\n",
    "        \n",
    "\n",
    "\n",
    "    \n"
   ]
  }
 ]
}